{
 "cells": [
  {
   "cell_type": "code",
   "execution_count": null,
   "metadata": {},
   "outputs": [],
   "source": []
  },
  {
   "cell_type": "code",
   "execution_count": 4,
   "metadata": {},
   "outputs": [],
   "source": [
    "from keras.layers import Input, Lambda, Dense, Flatten\n",
    "from keras.models import Model\n",
    "from keras.applications.vgg16 import VGG16\n",
    "from keras.applications.vgg16 import preprocess_input\n",
    "from keras.preprocessing import image\n",
    "from keras.preprocessing.image import ImageDataGenerator\n",
    "from keras.models import Sequential\n",
    "import numpy as np\n",
    "from glob import glob\n",
    "import matplotlib.pyplot as plt\n",
    "\n",
    "# re-size all the images to this\n",
    "IMAGE_SIZE = [224, 224]\n",
    "\n",
    "train_path = 'Datasets/Train'\n",
    "valid_path = 'Datasets/Test'\n",
    "\n",
    "# add preprocessing layer to the front of VGG\n",
    "vgg = VGG16(input_shape=IMAGE_SIZE + [3], weights='imagenet', include_top=False)\n",
    "\n",
    "# don't train existing weights\n",
    "for layer in vgg.layers:\n",
    "  layer.trainable = False\n",
    "  \n",
    "\n",
    "  \n",
    "  # useful for getting number of classes\n",
    "folders = glob(r'C:\\Users\\KIRAN\\Desktop\\Machine Learning\\facerecognition--cv2\\Deep-Learning-Face-Recognition/Datasets/Train/*')\n",
    "  \n",
    "\n"
   ]
  },
  {
   "cell_type": "code",
   "execution_count": 5,
   "metadata": {},
   "outputs": [
    {
     "data": {
      "text/plain": [
       "['C:\\\\Users\\\\KIRAN\\\\Desktop\\\\Machine Learning\\\\facerecognition--cv2\\\\Deep-Learning-Face-Recognition/Datasets/Train\\\\phani',\n",
       " 'C:\\\\Users\\\\KIRAN\\\\Desktop\\\\Machine Learning\\\\facerecognition--cv2\\\\Deep-Learning-Face-Recognition/Datasets/Train\\\\pk']"
      ]
     },
     "execution_count": 5,
     "metadata": {},
     "output_type": "execute_result"
    }
   ],
   "source": [
    "folders"
   ]
  },
  {
   "cell_type": "code",
   "execution_count": 6,
   "metadata": {},
   "outputs": [
    {
     "name": "stdout",
     "output_type": "stream",
     "text": [
      "Model: \"model_1\"\n",
      "_________________________________________________________________\n",
      "Layer (type)                 Output Shape              Param #   \n",
      "=================================================================\n",
      "input_1 (InputLayer)         (None, 224, 224, 3)       0         \n",
      "_________________________________________________________________\n",
      "block1_conv1 (Conv2D)        (None, 224, 224, 64)      1792      \n",
      "_________________________________________________________________\n",
      "block1_conv2 (Conv2D)        (None, 224, 224, 64)      36928     \n",
      "_________________________________________________________________\n",
      "block1_pool (MaxPooling2D)   (None, 112, 112, 64)      0         \n",
      "_________________________________________________________________\n",
      "block2_conv1 (Conv2D)        (None, 112, 112, 128)     73856     \n",
      "_________________________________________________________________\n",
      "block2_conv2 (Conv2D)        (None, 112, 112, 128)     147584    \n",
      "_________________________________________________________________\n",
      "block2_pool (MaxPooling2D)   (None, 56, 56, 128)       0         \n",
      "_________________________________________________________________\n",
      "block3_conv1 (Conv2D)        (None, 56, 56, 256)       295168    \n",
      "_________________________________________________________________\n",
      "block3_conv2 (Conv2D)        (None, 56, 56, 256)       590080    \n",
      "_________________________________________________________________\n",
      "block3_conv3 (Conv2D)        (None, 56, 56, 256)       590080    \n",
      "_________________________________________________________________\n",
      "block3_pool (MaxPooling2D)   (None, 28, 28, 256)       0         \n",
      "_________________________________________________________________\n",
      "block4_conv1 (Conv2D)        (None, 28, 28, 512)       1180160   \n",
      "_________________________________________________________________\n",
      "block4_conv2 (Conv2D)        (None, 28, 28, 512)       2359808   \n",
      "_________________________________________________________________\n",
      "block4_conv3 (Conv2D)        (None, 28, 28, 512)       2359808   \n",
      "_________________________________________________________________\n",
      "block4_pool (MaxPooling2D)   (None, 14, 14, 512)       0         \n",
      "_________________________________________________________________\n",
      "block5_conv1 (Conv2D)        (None, 14, 14, 512)       2359808   \n",
      "_________________________________________________________________\n",
      "block5_conv2 (Conv2D)        (None, 14, 14, 512)       2359808   \n",
      "_________________________________________________________________\n",
      "block5_conv3 (Conv2D)        (None, 14, 14, 512)       2359808   \n",
      "_________________________________________________________________\n",
      "block5_pool (MaxPooling2D)   (None, 7, 7, 512)         0         \n",
      "_________________________________________________________________\n",
      "flatten_1 (Flatten)          (None, 25088)             0         \n",
      "_________________________________________________________________\n",
      "dense_1 (Dense)              (None, 2)                 50178     \n",
      "=================================================================\n",
      "Total params: 14,764,866\n",
      "Trainable params: 50,178\n",
      "Non-trainable params: 14,714,688\n",
      "_________________________________________________________________\n"
     ]
    }
   ],
   "source": [
    "# our layers - you can add more if you want\n",
    "x = Flatten()(vgg.output)\n",
    "# x = Dense(1000, activation='relu')(x)\n",
    "prediction = Dense(len(folders), activation='softmax')(x)\n",
    "\n",
    "# create a model object\n",
    "model = Model(inputs=vgg.input, outputs=prediction)\n",
    "\n",
    "# view the structure of the model\n",
    "model.summary()\n",
    "\n",
    "# tell the model what cost and optimization method to use\n",
    "model.compile(\n",
    "  loss='categorical_crossentropy',\n",
    "  optimizer='adam',\n",
    "  metrics=['accuracy']\n",
    ")\n",
    "\n",
    "\n"
   ]
  },
  {
   "cell_type": "code",
   "execution_count": 7,
   "metadata": {},
   "outputs": [
    {
     "name": "stdout",
     "output_type": "stream",
     "text": [
      "Found 74 images belonging to 2 classes.\n",
      "Found 65 images belonging to 2 classes.\n"
     ]
    },
    {
     "data": {
      "text/plain": [
       "'r=model.fit_generator(training_set,\\n                         samples_per_epoch = 8000,\\n                         nb_epoch = 5,\\n                         validation_data = test_set,\\n                         nb_val_samples = 2000)'"
      ]
     },
     "execution_count": 7,
     "metadata": {},
     "output_type": "execute_result"
    }
   ],
   "source": [
    "from keras.preprocessing.image import ImageDataGenerator\n",
    "\n",
    "train_datagen = ImageDataGenerator(rescale = 1./255,\n",
    "                                   shear_range = 0.2,\n",
    "                                   zoom_range = 0.2,\n",
    "                                   horizontal_flip = True)\n",
    "\n",
    "test_datagen = ImageDataGenerator(rescale = 1./255)\n",
    "\n",
    "training_set = train_datagen.flow_from_directory(r'C:\\Users\\KIRAN\\Desktop\\Machine Learning\\facerecognition--cv2\\Deep-Learning-Face-Recognition\\Datasets\\Train',\n",
    "                                                 target_size = (224, 224),\n",
    "                                                 batch_size = 32,\n",
    "                                                 class_mode = 'categorical')\n",
    "\n",
    "test_set = test_datagen.flow_from_directory(r'C:\\Users\\KIRAN\\Desktop\\Machine Learning\\facerecognition--cv2\\Deep-Learning-Face-Recognition\\Datasets\\Test',\n",
    "                                            target_size = (224, 224),\n",
    "                                            batch_size = 32,\n",
    "                                            class_mode = 'categorical')\n",
    "\n",
    "'''r=model.fit_generator(training_set,\n",
    "                         samples_per_epoch = 8000,\n",
    "                         nb_epoch = 5,\n",
    "                         validation_data = test_set,\n",
    "                         nb_val_samples = 2000)'''\n",
    "\n"
   ]
  },
  {
   "cell_type": "code",
   "execution_count": 8,
   "metadata": {},
   "outputs": [
    {
     "name": "stdout",
     "output_type": "stream",
     "text": [
      "Epoch 1/1\n",
      "3/3 [==============================] - 88s 29s/step - loss: 1.0190 - accuracy: 0.5270 - val_loss: 8.5350e-05 - val_accuracy: 0.9692\n"
     ]
    }
   ],
   "source": [
    "# fit the model\n",
    "r = model.fit_generator(\n",
    "  training_set,\n",
    "  validation_data=test_set,\n",
    "  epochs=1,\n",
    "  steps_per_epoch=len(training_set),\n",
    "  validation_steps=len(test_set)\n",
    ")\n"
   ]
  },
  {
   "cell_type": "code",
   "execution_count": 9,
   "metadata": {},
   "outputs": [
    {
     "data": {
      "image/png": "[encoded data removed]",
      "text/plain": [
       "<Figure size 432x288 with 1 Axes>"
      ]
     },
     "metadata": {
      "needs_background": "light"
     },
     "output_type": "display_data"
    },
    {
     "data": {
      "image/png": "[encoded data removed]",
      "text/plain": [
       "<Figure size 432x288 with 1 Axes>"
      ]
     },
     "metadata": {
      "needs_background": "light"
     },
     "output_type": "display_data"
    },
    {
     "data": {
      "text/plain": [
       "<Figure size 432x288 with 0 Axes>"
      ]
     },
     "metadata": {},
     "output_type": "display_data"
    }
   ],
   "source": [
    "# loss\n",
    "plt.plot(r.history['loss'], label='train loss')\n",
    "plt.plot(r.history['val_loss'], label='val loss')\n",
    "plt.legend()\n",
    "plt.show()\n",
    "plt.savefig('LossVal_loss')\n",
    "\n",
    "# accuracies\n",
    "plt.plot(r.history['accuracy'], label='train acc')\n",
    "plt.plot(r.history['val_accuracy'], label='val acc')\n",
    "plt.legend()\n",
    "plt.show()\n",
    "plt.savefig('AccVal_accuracy')\n",
    "\n",
    "import tensorflow as tf\n",
    "\n",
    "from keras.models import load_model\n",
    "\n",
    "model.save('facefeatures_new_models.h5')\n"
   ]
  },
  {
   "cell_type": "code",
   "execution_count": 14,
   "metadata": {},
   "outputs": [
    {
     "name": "stdout",
     "output_type": "stream",
     "text": [
      "[[1. 0.]]\n",
      "[[1.0000000e+00 2.0178554e-35]]\n",
      "[[1. 0.]]\n",
      "[[1.000000e+00 3.188335e-25]]\n",
      "[[1.000000e+00 7.748613e-34]]\n",
      "[[1.0000000e+00 5.7266207e-21]]\n",
      "[[1.0000000e+00 2.3840333e-22]]\n",
      "[[1.0000000e+00 1.4962842e-22]]\n",
      "[[1.0000000e+00 1.4969754e-29]]\n",
      "[[1.0000000e+00 1.3064216e-23]]\n",
      "[[1.0000000e+00 1.3286223e-28]]\n",
      "[[1.0000000e+00 9.4966774e-23]]\n",
      "[[1.0000000e+00 7.8825243e-29]]\n",
      "[[1.000000e+00 7.562765e-27]]\n",
      "[[1.0000000e+00 2.2469811e-26]]\n",
      "[[1.0000000e+00 9.6960225e-25]]\n",
      "[[1.0000000e+00 1.4467021e-28]]\n",
      "[[1.0000000e+00 6.0427988e-28]]\n",
      "[[1.0000000e+00 1.5803871e-27]]\n",
      "[[1.0000000e+00 1.6197883e-31]]\n",
      "[[1.0000000e+00 3.7264977e-28]]\n",
      "[[1.000000e+00 4.331208e-31]]\n",
      "[[1.0000000e+00 1.4628497e-30]]\n",
      "[[1.0000000e+00 1.3574419e-32]]\n",
      "[[1.000000e+00 5.372409e-26]]\n",
      "[[1.0000000e+00 2.6390777e-28]]\n",
      "[[1.0000000e+00 4.5565985e-27]]\n",
      "[[1.0000000e+00 1.0317174e-27]]\n",
      "[[1.000000e+00 2.133383e-31]]\n",
      "[[1.000000e+00 6.780321e-30]]\n",
      "[[1.000000e+00 1.656571e-29]]\n",
      "[[1.0000000e+00 1.7566028e-29]]\n",
      "[[1.000000e+00 9.950076e-31]]\n",
      "[[1.000000e+00 6.908758e-28]]\n",
      "[[1.0000000e+00 3.1460819e-27]]\n",
      "[[1.000000e+00 3.493513e-30]]\n",
      "[[1.000000e+00 6.656095e-33]]\n",
      "[[1.000000e+00 5.917743e-28]]\n",
      "[[1.0000000e+00 2.0643342e-30]]\n",
      "[[1.0000000e+00 5.4702986e-30]]\n",
      "[[1.0000000e+00 1.6687376e-27]]\n",
      "[[1.0000000e+00 5.6628234e-27]]\n",
      "[[1.0000000e+00 1.3118203e-30]]\n",
      "[[1.0000000e+00 1.9480378e-26]]\n",
      "[[1.000000e+00 9.051928e-27]]\n",
      "[[1.0000000e+00 1.6247903e-29]]\n",
      "[[1.0000000e+00 3.2807145e-29]]\n",
      "[[1.0000000e+00 4.3299712e-30]]\n",
      "[[1.0000000e+00 1.4322513e-33]]\n",
      "[[1.0000000e+00 2.6400563e-34]]\n",
      "[[1.000000e+00 6.891158e-33]]\n",
      "[[1.000000e+00 5.113555e-34]]\n",
      "[[1.000000e+00 2.012952e-26]]\n",
      "[[1.000000e+00 6.508826e-27]]\n",
      "[[1.00000e+00 8.36075e-27]]\n",
      "[[1.000000e+00 7.926945e-28]]\n",
      "[[1.000000e+00 1.634479e-25]]\n",
      "[[1.0000000e+00 1.4011406e-25]]\n",
      "[[1.0000000e+00 2.1375255e-27]]\n",
      "[[1.000000e+00 6.294093e-29]]\n",
      "[[1.000000e+00 2.192041e-28]]\n",
      "[[1.000000e+00 7.363819e-29]]\n",
      "[[1.000000e+00 1.240947e-28]]\n",
      "[[1.0000000e+00 1.6391261e-23]]\n",
      "[[1.0000000e+00 1.8495718e-26]]\n",
      "[[1.0000000e+00 2.0934993e-25]]\n",
      "[[1.0000000e+00 2.0162411e-26]]\n",
      "[[1.0000000e+00 4.6014395e-26]]\n",
      "[[1.000000e+00 9.693313e-27]]\n",
      "[[1.000000e+00 7.370643e-23]]\n",
      "[[1.000000e+00 1.935704e-26]]\n",
      "[[1.0000000e+00 1.2368649e-26]]\n",
      "[[1.0000000e+00 4.3457004e-26]]\n",
      "[[1.0000000e+00 7.7078605e-29]]\n",
      "[[1.0000000e+00 3.5521577e-30]]\n",
      "[[1.0000000e+00 9.4319245e-27]]\n",
      "[[1.000000e+00 4.593315e-28]]\n",
      "[[1.0000000e+00 1.5455975e-28]]\n",
      "[[1.00000e+00 8.48367e-27]]\n",
      "[[1.0000000e+00 3.3213676e-26]]\n",
      "[[1.0000000e+00 2.1993793e-27]]\n",
      "[[1.00000000e+00 1.02844135e-25]]\n",
      "[[1.000000e+00 8.551093e-26]]\n",
      "[[1.0000000e+00 2.0037528e-24]]\n",
      "[[1.0000000e+00 1.8666155e-29]]\n",
      "[[1.0000000e+00 3.8175011e-22]]\n",
      "[[1.0000000e+00 5.7221237e-28]]\n",
      "[[1.0000000e+00 3.4080103e-28]]\n",
      "[[1.0000000e+00 1.0853062e-25]]\n",
      "[[1.000000e+00 8.136855e-25]]\n",
      "[[1.0000000e+00 2.8495202e-28]]\n",
      "[[1. 0.]]\n",
      "[[1. 0.]]\n",
      "[[1.0000000e+00 2.5763285e-30]]\n",
      "[[1.0000000e+00 1.2842984e-32]]\n"
     ]
    },
    {
     "ename": "KeyboardInterrupt",
     "evalue": "",
     "output_type": "error",
     "traceback": [
      "\u001b[1;31m---------------------------------------------------------------------------\u001b[0m",
      "\u001b[1;31mKeyboardInterrupt\u001b[0m                         Traceback (most recent call last)",
      "\u001b[1;32m<ipython-input-14-036360e6169f>\u001b[0m in \u001b[0;36m<module>\u001b[1;34m\u001b[0m\n\u001b[0;32m     45\u001b[0m \u001b[0mvideo_capture\u001b[0m \u001b[1;33m=\u001b[0m \u001b[0mcv2\u001b[0m\u001b[1;33m.\u001b[0m\u001b[0mVideoCapture\u001b[0m\u001b[1;33m(\u001b[0m\u001b[1;36m0\u001b[0m\u001b[1;33m)\u001b[0m\u001b[1;33m\u001b[0m\u001b[1;33m\u001b[0m\u001b[0m\n\u001b[0;32m     46\u001b[0m \u001b[1;32mwhile\u001b[0m \u001b[1;32mTrue\u001b[0m\u001b[1;33m:\u001b[0m\u001b[1;33m\u001b[0m\u001b[1;33m\u001b[0m\u001b[0m\n\u001b[1;32m---> 47\u001b[1;33m     \u001b[0m_\u001b[0m\u001b[1;33m,\u001b[0m \u001b[0mframe\u001b[0m \u001b[1;33m=\u001b[0m \u001b[0mvideo_capture\u001b[0m\u001b[1;33m.\u001b[0m\u001b[0mread\u001b[0m\u001b[1;33m(\u001b[0m\u001b[1;33m)\u001b[0m\u001b[1;33m\u001b[0m\u001b[1;33m\u001b[0m\u001b[0m\n\u001b[0m\u001b[0;32m     48\u001b[0m     \u001b[1;31m#canvas = detect(gray, frame)\u001b[0m\u001b[1;33m\u001b[0m\u001b[1;33m\u001b[0m\u001b[1;33m\u001b[0m\u001b[0m\n\u001b[0;32m     49\u001b[0m     \u001b[1;31m#image, face =face_detector(frame)\u001b[0m\u001b[1;33m\u001b[0m\u001b[1;33m\u001b[0m\u001b[1;33m\u001b[0m\u001b[0m\n",
      "\u001b[1;31mKeyboardInterrupt\u001b[0m: "
     ]
    }
   ],
   "source": [
    "# -*- coding: utf-8 -*-\n",
    "\n",
    "\n",
    "# Face Recognition\n",
    "\n",
    "# Importing the libraries\n",
    "from PIL import Image\n",
    "from keras.applications.vgg16 import preprocess_input\n",
    "import base64\n",
    "from io import BytesIO\n",
    "import json\n",
    "import random\n",
    "import cv2\n",
    "from keras.models import load_model\n",
    "import numpy as np\n",
    "\n",
    "from keras.preprocessing import image\n",
    "model = load_model('facefeatures_new_models.h5')\n",
    "\n",
    "# Loading the cascades\n",
    "face_cascade = cv2.CascadeClassifier('haarcascade_frontalface_default.xml')\n",
    "\n",
    "def face_extractor(img):\n",
    "    # Function detects faces and returns the cropped face\n",
    "    # If no face detected, it returns the input image\n",
    "    \n",
    "    #gray = cv2.cvtColor(img,cv2.COLOR_BGR2GRAY)\n",
    "    faces = face_cascade.detectMultiScale(img, 1.3, 5)\n",
    "    \n",
    "    if faces is ():\n",
    "        return None\n",
    "    \n",
    "    # Crop all faces found\n",
    "    for (x,y,w,h) in faces:\n",
    "        cv2.rectangle(img,(x,y),(x+w,y+h),(0,255,255),2)\n",
    "        cropped_face = img[y:y+h, x:x+w]\n",
    "\n",
    "    return cropped_face\n",
    "\n",
    "# Doing some Face Recognition with the webcam\n",
    "video_capture = cv2.VideoCapture(0)\n",
    "while True:\n",
    "    _, frame = video_capture.read()\n",
    "    #canvas = detect(gray, frame)\n",
    "    #image, face =face_detector(frame)\n",
    "    \n",
    "    face=face_extractor(frame)\n",
    "    if type(face) is np.ndarray:\n",
    "        face = cv2.resize(face, (224, 224))\n",
    "        im = Image.fromarray(face, 'RGB')\n",
    "           #Resizing into 128x128 because we trained the model with this image size.\n",
    "        img_array = np.array(im)\n",
    "                    #Our keras model used a 4D tensor, (images x height x width x channel)\n",
    "                    #So changing dimension 128x128x3 into 1x128x128x3 \n",
    "        img_array = np.expand_dims(img_array, axis=0)\n",
    "        pred = model.predict(img_array)\n",
    "        print(pred)\n",
    "                     \n",
    "        name=\"None matching\"\n",
    "        \n",
    "        if(pred[0][0]>0.5):\n",
    "            name='Phani'\n",
    "        cv2.putText(frame,name, (50, 50), cv2.FONT_HERSHEY_COMPLEX, 1, (0,255,0), 2)\n",
    "    else:\n",
    "        cv2.putText(frame,\"No face found\", (50, 50), cv2.FONT_HERSHEY_COMPLEX, 1, (0,255,0), 2)\n",
    "    cv2.imshow('Video', frame)\n",
    "    if cv2.waitKey(1) & 0xFF == ord('q'):\n",
    "        break\n",
    "video_capture.release()\n",
    "cv2.destroyAllWindows()\n",
    "\n",
    "       \n",
    "\n"
   ]
  },
  {
   "cell_type": "code",
   "execution_count": 7,
   "metadata": {},
   "outputs": [],
   "source": [
    "from PIL import Image\n",
    "import base64\n",
    "from io import BytesIO\n",
    "import json\n",
    "import random\n",
    "import cv2\n",
    "import numpy as np"
   ]
  },
  {
   "cell_type": "code",
   "execution_count": null,
   "metadata": {},
   "outputs": [],
   "source": []
  }
 ],
 "metadata": {
  "kernelspec": {
   "display_name": "Python 3",
   "language": "python",
   "name": "python3"
  },
  "language_info": {
   "codemirror_mode": {
    "name": "ipython",
    "version": 3
   },
   "file_extension": ".py",
   "mimetype": "text/x-python",
   "name": "python",
   "nbconvert_exporter": "python",
   "pygments_lexer": "ipython3",
   "version": "3.7.4"
  }
 },
 "nbformat": 4,
 "nbformat_minor": 2
}
